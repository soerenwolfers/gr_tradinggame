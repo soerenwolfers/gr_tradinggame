{
  "nbformat": 4,
  "nbformat_minor": 0,
  "metadata": {
    "colab": {
      "provenance": []
    },
    "kernelspec": {
      "name": "python3",
      "display_name": "Python 3"
    },
    "language_info": {
      "name": "python"
    }
  },
  "cells": [
    {
      "cell_type": "code",
      "execution_count": null,
      "metadata": {
        "id": "cJzJElEo5pQz"
      },
      "outputs": [],
      "source": [
        "pip install gr_tradinggame"
      ]
    },
    {
      "cell_type": "code",
      "source": [
        "from gr_tradinggame.coding.gui import CodingGame"
      ],
      "metadata": {
        "id": "oRPeOxAu53cg"
      },
      "execution_count": null,
      "outputs": []
    },
    {
      "cell_type": "code",
      "source": [
        "example_functions ={}"
      ],
      "metadata": {
        "id": "81F-ZXpe6DBq"
      },
      "execution_count": null,
      "outputs": []
    },
    {
      "cell_type": "code",
      "source": [
        "import random\n",
        "def foo(reward: float, lockout: int, t: int, T: int, your_score: float, other_scores: list[float]):\n",
        "    return random.random() > 0.5"
      ],
      "metadata": {
        "id": "coNCEKkV6tBo"
      },
      "execution_count": null,
      "outputs": []
    },
    {
      "cell_type": "code",
      "source": [
        "example_functions[\"RandomTeam\"] = foo"
      ],
      "metadata": {
        "id": "TIajMSYQ6VNe"
      },
      "execution_count": null,
      "outputs": []
    },
    {
      "cell_type": "code",
      "source": [
        "def threshold(reward: float, lockout: int, t: int, T: int, your_score: float, other_scores: list[float]):\n",
        "    threshold = 0.4\n",
        "    if lockout <= 0:\n",
        "        threshold = 0\n",
        "    if t >= T:\n",
        "        threshold = 0\n",
        "    return reward > threshold"
      ],
      "metadata": {
        "id": "hPJfj5j37XrX"
      },
      "execution_count": null,
      "outputs": []
    },
    {
      "cell_type": "code",
      "source": [
        "example_functions[\"ThresholdTeam\"] = threshold"
      ],
      "metadata": {
        "id": "4ZQUZBBD7ePy"
      },
      "execution_count": null,
      "outputs": []
    },
    {
      "cell_type": "code",
      "source": [
        "game = CodingGame(rounds=2000, cooldown=3, length_in_seconds=10,functions=example_functions)\n",
        "game.play()"
      ],
      "metadata": {
        "id": "FFnnOBPe6JPM"
      },
      "execution_count": null,
      "outputs": []
    },
    {
      "cell_type": "code",
      "source": [
        "import numpy\n",
        "rng = numpy.random.default_rng(seed=None)\n",
        "def draw_exponential():\n",
        "\n",
        "    return rng.exponential(10)"
      ],
      "metadata": {
        "id": "w1gB1Mzj7IE1"
      },
      "execution_count": null,
      "outputs": []
    },
    {
      "cell_type": "code",
      "source": [
        "game = CodingGame(rounds=2000, cooldown=3, length_in_seconds=10,functions=example_functions,random_draw_function=draw_exponential)\n",
        "game.play()"
      ],
      "metadata": {
        "id": "pRihtHVq7xZc"
      },
      "execution_count": null,
      "outputs": []
    },
    {
      "cell_type": "code",
      "source": [
        "game = CodingGame(rounds=2000, cooldown=3, length_in_seconds=10,functions=example_functions,random_draw_function=draw_exponential,must_be_only_team=True)\n",
        "game.play()"
      ],
      "metadata": {
        "id": "4mk7-fLk773m"
      },
      "execution_count": null,
      "outputs": []
    },
    {
      "cell_type": "code",
      "source": [
        "example_functions[\"CopyCat\"] = threshold"
      ],
      "metadata": {
        "id": "omcWbuo18IHw"
      },
      "execution_count": null,
      "outputs": []
    },
    {
      "cell_type": "code",
      "source": [
        "game = CodingGame(rounds=2000, cooldown=3, length_in_seconds=10,functions=example_functions,random_draw_function=draw_exponential,must_be_only_team=True)\n",
        "game.play()"
      ],
      "metadata": {
        "id": "Xu-M1zvj8T1i"
      },
      "execution_count": null,
      "outputs": []
    },
    {
      "cell_type": "code",
      "source": [
        "def always_true(reward: float, lockout: int, t: int, T: int, your_score: float, other_scores: list[float]):\n",
        "\n",
        "    return True"
      ],
      "metadata": {
        "id": "RBntD-O3Di0s"
      },
      "execution_count": null,
      "outputs": []
    },
    {
      "cell_type": "code",
      "source": [
        "bots ={}\n",
        "bots[\"Greedy_Bot\"] = always_true"
      ],
      "metadata": {
        "id": "wcEl8Enn8X_D"
      },
      "execution_count": null,
      "outputs": []
    },
    {
      "cell_type": "code",
      "source": [
        "game = CodingGame(rounds=2000, cooldown=3, length_in_seconds=10,functions=example_functions,random_draw_function=draw_exponential,must_be_only_team=True,additional_functions=bots)\n",
        "game.play()"
      ],
      "metadata": {
        "id": "T64F-u1LD00o"
      },
      "execution_count": null,
      "outputs": []
    },
    {
      "cell_type": "code",
      "source": [],
      "metadata": {
        "id": "ajiv1Z4oD_Dp"
      },
      "execution_count": null,
      "outputs": []
    }
  ]
}