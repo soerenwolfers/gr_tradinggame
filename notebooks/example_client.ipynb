{
 "cells": [
  {
   "cell_type": "code",
   "execution_count": null,
   "id": "5a2e6488-0dd0-4df6-9bca-e068288475af",
   "metadata": {},
   "outputs": [],
   "source": [
    "pip install gr_tradinggame"
   ]
  },
  {
   "cell_type": "code",
   "execution_count": null,
   "id": "e6db4e8f-d976-41e8-9c8c-5ca339a8ddc6",
   "metadata": {},
   "outputs": [],
   "source": [
    "from gr_tradinggame.coding.client import Client\n",
    "\n",
    "server = '2048c5144901'"
   ]
  },
  {
   "cell_type": "code",
   "execution_count": null,
   "id": "8d1b6088-7ce8-4186-800c-0fcde24fbd76",
   "metadata": {},
   "outputs": [],
   "source": [
    "client = Client('Team A', server=server)\n",
    "\n",
    "import random\n",
    "def foo(reward: float, lockout: int, t: int, T: int, your_score: float, other_scores: list[float]):\n",
    "    return random.choice([False, True])\n",
    "\n",
    "client.test(foo)"
   ]
  },
  {
   "cell_type": "code",
   "execution_count": null,
   "id": "eb2a4bed-0a7d-4468-9710-4ee634a706de",
   "metadata": {},
   "outputs": [],
   "source": [
    "client.submit(foo)"
   ]
  }
 ],
 "metadata": {
  "kernelspec": {
   "display_name": "Python 3 (ipykernel)",
   "language": "python",
   "name": "python3"
  },
  "language_info": {
   "codemirror_mode": {
    "name": "ipython",
    "version": 3
   },
   "file_extension": ".py",
   "mimetype": "text/x-python",
   "name": "python",
   "nbconvert_exporter": "python",
   "pygments_lexer": "ipython3",
   "version": "3.11.11"
  }
 },
 "nbformat": 4,
 "nbformat_minor": 5
}
