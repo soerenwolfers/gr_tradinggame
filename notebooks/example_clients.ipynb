{
 "cells": [
  {
   "cell_type": "code",
   "execution_count": 6,
   "id": "4a89ed95-5eae-40f1-a56d-acb23df61099",
   "metadata": {
    "execution": {
     "iopub.execute_input": "2025-05-27T15:50:15.422501Z",
     "iopub.status.busy": "2025-05-27T15:50:15.422017Z",
     "iopub.status.idle": "2025-05-27T15:50:15.428111Z",
     "shell.execute_reply": "2025-05-27T15:50:15.427015Z",
     "shell.execute_reply.started": "2025-05-27T15:50:15.422459Z"
    }
   },
   "outputs": [],
   "source": [
    "from gr_tradinggame.coding.client import Client\n",
    "\n",
    "server = '1e4b-34-83-252-164'"
   ]
  },
  {
   "cell_type": "code",
   "execution_count": 7,
   "id": "067cc5e4-9558-477c-8b8f-9ba34360288e",
   "metadata": {
    "execution": {
     "iopub.execute_input": "2025-05-27T15:50:16.116021Z",
     "iopub.status.busy": "2025-05-27T15:50:16.115545Z",
     "iopub.status.idle": "2025-05-27T15:50:16.233055Z",
     "shell.execute_reply": "2025-05-27T15:50:16.231780Z",
     "shell.execute_reply.started": "2025-05-27T15:50:16.115981Z"
    }
   },
   "outputs": [
    {
     "name": "stdout",
     "output_type": "stream",
     "text": [
      "Test 3 (\"playing by yourself\"): f(1.5, 5, 1, 10, 1.3, [])\n",
      "Test 3 (\"playing by yourself\"): f(1.5, 5, 1, 10, 1.3, [])\n"
     ]
    },
    {
     "ename": "Exception",
     "evalue": "You previously returned `False` and are now returning `True`. If this is intentional, set `allow_state=True`",
     "output_type": "error",
     "traceback": [
      "\u001b[31m---------------------------------------------------------------------------\u001b[39m",
      "\u001b[31mException\u001b[39m                                 Traceback (most recent call last)",
      "\u001b[36mCell\u001b[39m\u001b[36m \u001b[39m\u001b[32mIn[7]\u001b[39m\u001b[32m, line 6\u001b[39m\n\u001b[32m      4\u001b[39m \u001b[38;5;28;01mdef\u001b[39;00m\u001b[38;5;250m \u001b[39m\u001b[34mfoo\u001b[39m(reward: \u001b[38;5;28mfloat\u001b[39m, lockout: \u001b[38;5;28mint\u001b[39m, t: \u001b[38;5;28mint\u001b[39m, T: \u001b[38;5;28mint\u001b[39m, your_score: \u001b[38;5;28mfloat\u001b[39m, other_scores: \u001b[38;5;28mlist\u001b[39m[\u001b[38;5;28mfloat\u001b[39m]):\n\u001b[32m      5\u001b[39m     \u001b[38;5;28;01mreturn\u001b[39;00m random.random() > \u001b[32m0.5\u001b[39m\n\u001b[32m----> \u001b[39m\u001b[32m6\u001b[39m \u001b[43mclient\u001b[49m\u001b[43m.\u001b[49m\u001b[43mtest\u001b[49m\u001b[43m(\u001b[49m\u001b[43mfoo\u001b[49m\u001b[43m)\u001b[49m\n",
      "\u001b[36mFile \u001b[39m\u001b[32m~/gr_tradinggame/src/gr_tradinggame/coding/client.py:23\u001b[39m, in \u001b[36mClient.test\u001b[39m\u001b[34m(self, source_or_function, verbose, strict, allow_state)\u001b[39m\n\u001b[32m     22\u001b[39m \u001b[38;5;28;01mdef\u001b[39;00m\u001b[38;5;250m \u001b[39m\u001b[34mtest\u001b[39m(\u001b[38;5;28mself\u001b[39m, source_or_function, verbose=\u001b[38;5;28;01mFalse\u001b[39;00m, strict=\u001b[38;5;28;01mFalse\u001b[39;00m, allow_state=\u001b[38;5;28;01mFalse\u001b[39;00m):\n\u001b[32m---> \u001b[39m\u001b[32m23\u001b[39m     \u001b[38;5;28;01mreturn\u001b[39;00m \u001b[38;5;28;43mself\u001b[39;49m\u001b[43m.\u001b[49m\u001b[43m_submit\u001b[49m\u001b[43m(\u001b[49m\u001b[43msource_or_function\u001b[49m\u001b[43m,\u001b[49m\u001b[43m \u001b[49m\u001b[43mstrict\u001b[49m\u001b[43m=\u001b[49m\u001b[43mstrict\u001b[49m\u001b[43m,\u001b[49m\u001b[43m \u001b[49m\u001b[43msubmit\u001b[49m\u001b[43m=\u001b[49m\u001b[38;5;28;43;01mFalse\u001b[39;49;00m\u001b[43m,\u001b[49m\u001b[43m \u001b[49m\u001b[43mallow_state\u001b[49m\u001b[43m=\u001b[49m\u001b[43mallow_state\u001b[49m\u001b[43m,\u001b[49m\u001b[43m \u001b[49m\u001b[43mverbose\u001b[49m\u001b[43m=\u001b[49m\u001b[43mverbose\u001b[49m\u001b[43m)\u001b[49m\n",
      "\u001b[36mFile \u001b[39m\u001b[32m~/gr_tradinggame/src/gr_tradinggame/coding/client.py:61\u001b[39m, in \u001b[36mClient._submit\u001b[39m\u001b[34m(self, source_or_function, strict, submit, allow_state, verbose)\u001b[39m\n\u001b[32m     59\u001b[39m \u001b[38;5;28;01mif\u001b[39;00m a != outputs[i] \u001b[38;5;129;01mand\u001b[39;00m \u001b[38;5;129;01mnot\u001b[39;00m allow_state:\n\u001b[32m     60\u001b[39m     \u001b[38;5;28mprint\u001b[39m(test_str)\n\u001b[32m---> \u001b[39m\u001b[32m61\u001b[39m     \u001b[38;5;28;01mraise\u001b[39;00m \u001b[38;5;167;01mException\u001b[39;00m(\u001b[33mf\u001b[39m\u001b[33m\"\"\"\u001b[39m\u001b[33mYou previously returned `\u001b[39m\u001b[38;5;132;01m{\u001b[39;00moutputs[i]\u001b[38;5;132;01m}\u001b[39;00m\u001b[33m` and are now returning `\u001b[39m\u001b[38;5;132;01m{\u001b[39;00ma\u001b[38;5;132;01m}\u001b[39;00m\u001b[33m`. If this is intentional, set `allow_state=True`\u001b[39m\u001b[33m\"\"\"\u001b[39m)\n\u001b[32m     62\u001b[39m \u001b[38;5;28;01melif\u001b[39;00m \u001b[38;5;129;01mnot\u001b[39;00m \u001b[38;5;28misinstance\u001b[39m(a, \u001b[38;5;28mbool\u001b[39m):\n\u001b[32m     63\u001b[39m     \u001b[38;5;28mprint\u001b[39m(test_str)\n",
      "\u001b[31mException\u001b[39m: You previously returned `False` and are now returning `True`. If this is intentional, set `allow_state=True`"
     ]
    }
   ],
   "source": [
    "client = Client('Team A', server=server)\n",
    "\n",
    "import random\n",
    "def foo(reward: float, lockout: int, t: int, T: int, your_score: float, other_scores: list[float]):\n",
    "    return random.random() > 0.5\n",
    "client.test(foo)"
   ]
  },
  {
   "cell_type": "code",
   "execution_count": 8,
   "id": "7084e0ae-4eb7-487e-96d1-b8dfb3d4c5e6",
   "metadata": {
    "execution": {
     "iopub.execute_input": "2025-05-27T15:50:17.201358Z",
     "iopub.status.busy": "2025-05-27T15:50:17.200690Z",
     "iopub.status.idle": "2025-05-27T15:50:17.218715Z",
     "shell.execute_reply": "2025-05-27T15:50:17.217609Z",
     "shell.execute_reply.started": "2025-05-27T15:50:17.201309Z"
    }
   },
   "outputs": [
    {
     "name": "stdout",
     "output_type": "stream",
     "text": [
      "All tests passed. You're ready to call `submit`\n",
      "\n"
     ]
    }
   ],
   "source": [
    "client.test(foo, allow_state=True)"
   ]
  },
  {
   "cell_type": "code",
   "execution_count": 9,
   "id": "938596c6-7ada-4f59-b4f1-5739ad88354e",
   "metadata": {
    "execution": {
     "iopub.execute_input": "2025-05-27T15:50:17.677518Z",
     "iopub.status.busy": "2025-05-27T15:50:17.676914Z",
     "iopub.status.idle": "2025-05-27T15:50:18.102301Z",
     "shell.execute_reply": "2025-05-27T15:50:18.101351Z",
     "shell.execute_reply.started": "2025-05-27T15:50:17.677471Z"
    }
   },
   "outputs": [
    {
     "name": "stdout",
     "output_type": "stream",
     "text": [
      "Submission successful:  Team A 2025-05-27 16:50:17.691337\n"
     ]
    }
   ],
   "source": [
    "client.submit(foo, allow_state=True)"
   ]
  },
  {
   "cell_type": "code",
   "execution_count": 10,
   "id": "9acb9620-77e7-4529-a43d-adcfb5f3ad26",
   "metadata": {
    "execution": {
     "iopub.execute_input": "2025-05-27T15:50:19.067751Z",
     "iopub.status.busy": "2025-05-27T15:50:19.067292Z",
     "iopub.status.idle": "2025-05-27T15:50:19.073472Z",
     "shell.execute_reply": "2025-05-27T15:50:19.072301Z",
     "shell.execute_reply.started": "2025-05-27T15:50:19.067712Z"
    }
   },
   "outputs": [],
   "source": [
    "client = Client('Team B', server=server)"
   ]
  },
  {
   "cell_type": "code",
   "execution_count": 11,
   "id": "53b9d795-dc82-4d9d-9e50-f296bd6d7cfb",
   "metadata": {
    "execution": {
     "iopub.execute_input": "2025-05-27T15:50:19.437418Z",
     "iopub.status.busy": "2025-05-27T15:50:19.436654Z",
     "iopub.status.idle": "2025-05-27T15:50:19.459060Z",
     "shell.execute_reply": "2025-05-27T15:50:19.457691Z",
     "shell.execute_reply.started": "2025-05-27T15:50:19.437347Z"
    }
   },
   "outputs": [
    {
     "name": "stdout",
     "output_type": "stream",
     "text": [
      "All tests passed. You're ready to call `submit`\n",
      "\n"
     ]
    }
   ],
   "source": [
    "def foo(reward: float, lockout: int, t: int, T: int, your_score: float, other_scores: list[float]):\n",
    "    threshold = -0.1\n",
    "    if lockout <= 0:\n",
    "        threshold = 0\n",
    "    if t >= T:\n",
    "        threshold = 0\n",
    "    return reward > threshold\n",
    "client.test(foo)"
   ]
  },
  {
   "cell_type": "code",
   "execution_count": 12,
   "id": "c50154e1-edf7-43ec-839b-320ab6d5d849",
   "metadata": {
    "execution": {
     "iopub.execute_input": "2025-05-27T15:50:19.712664Z",
     "iopub.status.busy": "2025-05-27T15:50:19.711981Z",
     "iopub.status.idle": "2025-05-27T15:50:19.831434Z",
     "shell.execute_reply": "2025-05-27T15:50:19.830537Z",
     "shell.execute_reply.started": "2025-05-27T15:50:19.712597Z"
    }
   },
   "outputs": [
    {
     "name": "stdout",
     "output_type": "stream",
     "text": [
      "Test 2 (\"zero rewards\"): f(0, 5, 1, 10, 1.3, [1.1, 2.3])\n",
      "Test 2 (\"zero rewards\"): f(0, 5, 1, 10, 1.3, [1.1, 2.3])\n"
     ]
    },
    {
     "ename": "Exception",
     "evalue": "It doesn't make sense to accept a lockout in return for no reward",
     "output_type": "error",
     "traceback": [
      "\u001b[31m---------------------------------------------------------------------------\u001b[39m",
      "\u001b[31mException\u001b[39m                                 Traceback (most recent call last)",
      "\u001b[36mCell\u001b[39m\u001b[36m \u001b[39m\u001b[32mIn[12]\u001b[39m\u001b[32m, line 1\u001b[39m\n\u001b[32m----> \u001b[39m\u001b[32m1\u001b[39m \u001b[43mclient\u001b[49m\u001b[43m.\u001b[49m\u001b[43mtest\u001b[49m\u001b[43m(\u001b[49m\u001b[43mfoo\u001b[49m\u001b[43m,\u001b[49m\u001b[43m \u001b[49m\u001b[43mstrict\u001b[49m\u001b[43m=\u001b[49m\u001b[38;5;28;43;01mTrue\u001b[39;49;00m\u001b[43m)\u001b[49m\n",
      "\u001b[36mFile \u001b[39m\u001b[32m~/gr_tradinggame/src/gr_tradinggame/coding/client.py:23\u001b[39m, in \u001b[36mClient.test\u001b[39m\u001b[34m(self, source_or_function, verbose, strict, allow_state)\u001b[39m\n\u001b[32m     22\u001b[39m \u001b[38;5;28;01mdef\u001b[39;00m\u001b[38;5;250m \u001b[39m\u001b[34mtest\u001b[39m(\u001b[38;5;28mself\u001b[39m, source_or_function, verbose=\u001b[38;5;28;01mFalse\u001b[39;00m, strict=\u001b[38;5;28;01mFalse\u001b[39;00m, allow_state=\u001b[38;5;28;01mFalse\u001b[39;00m):\n\u001b[32m---> \u001b[39m\u001b[32m23\u001b[39m     \u001b[38;5;28;01mreturn\u001b[39;00m \u001b[38;5;28;43mself\u001b[39;49m\u001b[43m.\u001b[49m\u001b[43m_submit\u001b[49m\u001b[43m(\u001b[49m\u001b[43msource_or_function\u001b[49m\u001b[43m,\u001b[49m\u001b[43m \u001b[49m\u001b[43mstrict\u001b[49m\u001b[43m=\u001b[49m\u001b[43mstrict\u001b[49m\u001b[43m,\u001b[49m\u001b[43m \u001b[49m\u001b[43msubmit\u001b[49m\u001b[43m=\u001b[49m\u001b[38;5;28;43;01mFalse\u001b[39;49;00m\u001b[43m,\u001b[49m\u001b[43m \u001b[49m\u001b[43mallow_state\u001b[49m\u001b[43m=\u001b[49m\u001b[43mallow_state\u001b[49m\u001b[43m,\u001b[49m\u001b[43m \u001b[49m\u001b[43mverbose\u001b[49m\u001b[43m=\u001b[49m\u001b[43mverbose\u001b[49m\u001b[43m)\u001b[49m\n",
      "\u001b[36mFile \u001b[39m\u001b[32m~/gr_tradinggame/src/gr_tradinggame/coding/client.py:67\u001b[39m, in \u001b[36mClient._submit\u001b[39m\u001b[34m(self, source_or_function, strict, submit, allow_state, verbose)\u001b[39m\n\u001b[32m     65\u001b[39m         \u001b[38;5;28;01melif\u001b[39;00m strict \u001b[38;5;129;01mand\u001b[39;00m hint \u001b[38;5;129;01mis\u001b[39;00m \u001b[38;5;129;01mnot\u001b[39;00m \u001b[38;5;28;01mNone\u001b[39;00m \u001b[38;5;129;01mand\u001b[39;00m a != hint[\u001b[32m0\u001b[39m]:\n\u001b[32m     66\u001b[39m             \u001b[38;5;28mprint\u001b[39m(test_str)\n\u001b[32m---> \u001b[39m\u001b[32m67\u001b[39m             \u001b[38;5;28;01mraise\u001b[39;00m \u001b[38;5;167;01mException\u001b[39;00m(hint[\u001b[32m1\u001b[39m])\n\u001b[32m     68\u001b[39m \u001b[38;5;28;01mexcept\u001b[39;00m \u001b[38;5;167;01mException\u001b[39;00m:\n\u001b[32m     69\u001b[39m     \u001b[38;5;28mprint\u001b[39m(test_str)\n",
      "\u001b[31mException\u001b[39m: It doesn't make sense to accept a lockout in return for no reward"
     ]
    }
   ],
   "source": [
    "client.test(foo, strict=True)"
   ]
  },
  {
   "cell_type": "code",
   "execution_count": 13,
   "id": "57a20348-9039-4a73-be9d-5cd9f9bdd774",
   "metadata": {
    "execution": {
     "iopub.execute_input": "2025-05-27T15:50:20.323239Z",
     "iopub.status.busy": "2025-05-27T15:50:20.322677Z",
     "iopub.status.idle": "2025-05-27T15:50:20.343171Z",
     "shell.execute_reply": "2025-05-27T15:50:20.341623Z",
     "shell.execute_reply.started": "2025-05-27T15:50:20.323196Z"
    }
   },
   "outputs": [
    {
     "name": "stdout",
     "output_type": "stream",
     "text": [
      "All tests passed. You're ready to call `submit`\n",
      "\n"
     ]
    }
   ],
   "source": [
    "def foo(reward: float, lockout: int, t: int, T: int, your_score: float, other_scores: list[float]):\n",
    "    threshold = 0.1\n",
    "    if lockout <= 0:\n",
    "        threshold = 0\n",
    "    if t >= T:\n",
    "        threshold = 0\n",
    "    return reward > threshold\n",
    "client.test(foo, strict=True)"
   ]
  },
  {
   "cell_type": "code",
   "execution_count": 14,
   "id": "eaa85157-1e09-4f78-99b5-32426f53cf33",
   "metadata": {
    "execution": {
     "iopub.execute_input": "2025-05-27T15:50:20.786276Z",
     "iopub.status.busy": "2025-05-27T15:50:20.785693Z",
     "iopub.status.idle": "2025-05-27T15:50:21.364440Z",
     "shell.execute_reply": "2025-05-27T15:50:21.363251Z",
     "shell.execute_reply.started": "2025-05-27T15:50:20.786232Z"
    }
   },
   "outputs": [
    {
     "name": "stdout",
     "output_type": "stream",
     "text": [
      "Submission successful:  Team B 2025-05-27 16:50:20.799687\n"
     ]
    }
   ],
   "source": [
    "client.submit(foo)"
   ]
  },
  {
   "cell_type": "code",
   "execution_count": 15,
   "id": "bcf73c94-539a-4751-bfdd-e5ad93baa928",
   "metadata": {
    "execution": {
     "iopub.execute_input": "2025-05-27T15:50:21.367663Z",
     "iopub.status.busy": "2025-05-27T15:50:21.366692Z",
     "iopub.status.idle": "2025-05-27T15:50:21.373425Z",
     "shell.execute_reply": "2025-05-27T15:50:21.372374Z",
     "shell.execute_reply.started": "2025-05-27T15:50:21.367593Z"
    }
   },
   "outputs": [],
   "source": [
    "client = Client('Team C', server=server)"
   ]
  },
  {
   "cell_type": "code",
   "execution_count": 16,
   "id": "fd18f7fd-2542-48cd-b13b-d5b24f795eb0",
   "metadata": {
    "execution": {
     "iopub.execute_input": "2025-05-27T15:50:21.436162Z",
     "iopub.status.busy": "2025-05-27T15:50:21.435638Z",
     "iopub.status.idle": "2025-05-27T15:50:24.732870Z",
     "shell.execute_reply": "2025-05-27T15:50:24.730633Z",
     "shell.execute_reply.started": "2025-05-27T15:50:21.436122Z"
    }
   },
   "outputs": [
    {
     "ename": "Exception",
     "evalue": "Your code is too slow. Should take 0.1s per round but took 0.102s",
     "output_type": "error",
     "traceback": [
      "\u001b[31m---------------------------------------------------------------------------\u001b[39m",
      "\u001b[31mException\u001b[39m                                 Traceback (most recent call last)",
      "\u001b[36mCell\u001b[39m\u001b[36m \u001b[39m\u001b[32mIn[16]\u001b[39m\u001b[32m, line 1\u001b[39m\n\u001b[32m----> \u001b[39m\u001b[32m1\u001b[39m \u001b[43mclient\u001b[49m\u001b[43m.\u001b[49m\u001b[43msubmit\u001b[49m\u001b[43m(\u001b[49m\u001b[33;43m'''\u001b[39;49m\n\u001b[32m      2\u001b[39m \u001b[33;43mimport time; \u001b[39;49m\n\u001b[32m      3\u001b[39m \u001b[33;43mdef play(*args): time.sleep(0.1); return True\u001b[39;49m\n\u001b[32m      4\u001b[39m \u001b[33;43m'''\u001b[39;49m\u001b[43m,\u001b[49m\u001b[43m \u001b[49m\u001b[43mallow_state\u001b[49m\u001b[43m=\u001b[49m\u001b[38;5;28;43;01mTrue\u001b[39;49;00m\u001b[43m)\u001b[49m\n",
      "\u001b[36mFile \u001b[39m\u001b[32m~/gr_tradinggame/src/gr_tradinggame/coding/client.py:26\u001b[39m, in \u001b[36mClient.submit\u001b[39m\u001b[34m(self, source_or_function, allow_state)\u001b[39m\n\u001b[32m     25\u001b[39m \u001b[38;5;28;01mdef\u001b[39;00m\u001b[38;5;250m \u001b[39m\u001b[34msubmit\u001b[39m(\u001b[38;5;28mself\u001b[39m, source_or_function, allow_state=\u001b[38;5;28;01mFalse\u001b[39;00m):\n\u001b[32m---> \u001b[39m\u001b[32m26\u001b[39m     \u001b[38;5;28;01mreturn\u001b[39;00m \u001b[38;5;28;43mself\u001b[39;49m\u001b[43m.\u001b[49m\u001b[43m_submit\u001b[49m\u001b[43m(\u001b[49m\u001b[43msource_or_function\u001b[49m\u001b[43m,\u001b[49m\u001b[43m \u001b[49m\u001b[43mstrict\u001b[49m\u001b[43m=\u001b[49m\u001b[38;5;28;43;01mFalse\u001b[39;49;00m\u001b[43m,\u001b[49m\u001b[43m \u001b[49m\u001b[43msubmit\u001b[49m\u001b[43m=\u001b[49m\u001b[38;5;28;43;01mTrue\u001b[39;49;00m\u001b[43m,\u001b[49m\u001b[43m \u001b[49m\u001b[43mallow_state\u001b[49m\u001b[43m=\u001b[49m\u001b[43mallow_state\u001b[49m\u001b[43m,\u001b[49m\u001b[43m \u001b[49m\u001b[43mverbose\u001b[49m\u001b[43m=\u001b[49m\u001b[38;5;28;43;01mFalse\u001b[39;49;00m\u001b[43m)\u001b[49m\n",
      "\u001b[36mFile \u001b[39m\u001b[32m~/gr_tradinggame/src/gr_tradinggame/coding/client.py:93\u001b[39m, in \u001b[36mClient._submit\u001b[39m\u001b[34m(self, source_or_function, strict, submit, allow_state, verbose)\u001b[39m\n\u001b[32m     91\u001b[39m     toc = timeit.default_timer()\n\u001b[32m     92\u001b[39m     \u001b[38;5;28;01mif\u001b[39;00m toc - tic > \u001b[38;5;28mmax\u001b[39m(\u001b[32m1\u001b[39m, (j + \u001b[32m1\u001b[39m) * \u001b[38;5;28mself\u001b[39m.timeout):\n\u001b[32m---> \u001b[39m\u001b[32m93\u001b[39m         \u001b[38;5;28;01mraise\u001b[39;00m \u001b[38;5;167;01mException\u001b[39;00m(\u001b[33mf\u001b[39m\u001b[33m\"\"\"\u001b[39m\u001b[33mYour code is too slow. Should take \u001b[39m\u001b[38;5;132;01m{\u001b[39;00m\u001b[38;5;28mself\u001b[39m.timeout\u001b[38;5;132;01m}\u001b[39;00m\u001b[33ms per round but took \u001b[39m\u001b[38;5;132;01m{\u001b[39;00m(toc\u001b[38;5;250m \u001b[39m-\u001b[38;5;250m \u001b[39mtic)\u001b[38;5;250m \u001b[39m/\u001b[38;5;250m \u001b[39m(j\u001b[38;5;250m \u001b[39m+\u001b[38;5;250m \u001b[39m\u001b[32m1\u001b[39m)\u001b[38;5;132;01m:\u001b[39;00m\u001b[33m.3f\u001b[39m\u001b[38;5;132;01m}\u001b[39;00m\u001b[33ms\u001b[39m\u001b[33m\"\"\"\u001b[39m)\n\u001b[32m     94\u001b[39m \u001b[38;5;28;01mif\u001b[39;00m submit:\n\u001b[32m     95\u001b[39m     \u001b[38;5;28mself\u001b[39m.fancy_submit(source_or_function)\n",
      "\u001b[31mException\u001b[39m: Your code is too slow. Should take 0.1s per round but took 0.102s"
     ]
    }
   ],
   "source": [
    "client.submit('''\n",
    "import time; \n",
    "def play(*args): time.sleep(0.1); return True\n",
    "''', allow_state=True)"
   ]
  },
  {
   "cell_type": "code",
   "execution_count": 17,
   "id": "6ceca4e6-8322-404e-b482-07c70d30615d",
   "metadata": {
    "execution": {
     "iopub.execute_input": "2025-05-27T15:50:28.840978Z",
     "iopub.status.busy": "2025-05-27T15:50:28.840407Z",
     "iopub.status.idle": "2025-05-27T15:50:29.648983Z",
     "shell.execute_reply": "2025-05-27T15:50:29.647573Z",
     "shell.execute_reply.started": "2025-05-27T15:50:28.840935Z"
    }
   },
   "outputs": [
    {
     "name": "stdout",
     "output_type": "stream",
     "text": [
      "Submission successful:  Team C 2025-05-27 16:50:29.277488\n"
     ]
    }
   ],
   "source": [
    "client.submit('''def play(*args): return True''', allow_state=True)"
   ]
  },
  {
   "cell_type": "code",
   "execution_count": 18,
   "id": "6f8e1d85-0593-4f81-976a-ba6662986800",
   "metadata": {
    "execution": {
     "iopub.execute_input": "2025-05-27T15:50:29.651314Z",
     "iopub.status.busy": "2025-05-27T15:50:29.650882Z",
     "iopub.status.idle": "2025-05-27T15:50:29.657376Z",
     "shell.execute_reply": "2025-05-27T15:50:29.655971Z",
     "shell.execute_reply.started": "2025-05-27T15:50:29.651276Z"
    }
   },
   "outputs": [],
   "source": [
    "client = Client('Team D', server=server)"
   ]
  },
  {
   "cell_type": "code",
   "execution_count": 19,
   "id": "5bc35cf0-92e0-425f-b93d-b37e9cf73ee9",
   "metadata": {
    "execution": {
     "iopub.execute_input": "2025-05-27T15:50:30.698333Z",
     "iopub.status.busy": "2025-05-27T15:50:30.697879Z",
     "iopub.status.idle": "2025-05-27T15:50:31.092171Z",
     "shell.execute_reply": "2025-05-27T15:50:31.090932Z",
     "shell.execute_reply.started": "2025-05-27T15:50:30.698295Z"
    }
   },
   "outputs": [
    {
     "name": "stdout",
     "output_type": "stream",
     "text": [
      "Submission successful:  Team D 2025-05-27 16:50:30.712300\n"
     ]
    }
   ],
   "source": [
    "client.submit(foo)"
   ]
  },
  {
   "cell_type": "code",
   "execution_count": 20,
   "id": "2ceb3864-aadc-44dc-b8e4-09ca3dd63463",
   "metadata": {
    "execution": {
     "iopub.execute_input": "2025-05-27T15:50:31.560212Z",
     "iopub.status.busy": "2025-05-27T15:50:31.559661Z",
     "iopub.status.idle": "2025-05-27T15:50:32.013269Z",
     "shell.execute_reply": "2025-05-27T15:50:32.011909Z",
     "shell.execute_reply.started": "2025-05-27T15:50:31.560164Z"
    }
   },
   "outputs": [
    {
     "name": "stdout",
     "output_type": "stream",
     "text": [
      "Submission successful:  Team D 2025-05-27 16:50:31.578800\n"
     ]
    }
   ],
   "source": [
    "def foo(reward: float, lockout: int, t: int, T: int, your_score: float, other_scores: list[float]):\n",
    "    threshold = 0.2\n",
    "    if lockout <= 0:\n",
    "        threshold = 0\n",
    "    if t >= T:\n",
    "        threshold = 0\n",
    "    return reward > threshold\n",
    "client.submit(foo)"
   ]
  }
 ],
 "metadata": {
  "kernelspec": {
   "display_name": "Python 3 (ipykernel)",
   "language": "python",
   "name": "python3"
  },
  "language_info": {
   "codemirror_mode": {
    "name": "ipython",
    "version": 3
   },
   "file_extension": ".py",
   "mimetype": "text/x-python",
   "name": "python",
   "nbconvert_exporter": "python",
   "pygments_lexer": "ipython3",
   "version": "3.11.11"
  }
 },
 "nbformat": 4,
 "nbformat_minor": 5
}
