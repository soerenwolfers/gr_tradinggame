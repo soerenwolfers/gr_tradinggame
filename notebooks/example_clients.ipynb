{
 "cells": [
  {
   "cell_type": "code",
   "execution_count": null,
   "id": "7259bed9-40f8-46df-92e1-60e1816e006f",
   "metadata": {},
   "outputs": [],
   "source": [
    "pip install gr_tradinggame"
   ]
  },
  {
   "cell_type": "code",
   "execution_count": null,
   "id": "4a89ed95-5eae-40f1-a56d-acb23df61099",
   "metadata": {},
   "outputs": [],
   "source": [
    "from gr_tradinggame.coding.client import Client\n",
    "\n",
    "server = '1e4b-34-83-252-164'"
   ]
  },
  {
   "cell_type": "code",
   "execution_count": null,
   "id": "067cc5e4-9558-477c-8b8f-9ba34360288e",
   "metadata": {},
   "outputs": [],
   "source": [
    "client = Client('Team A', server=server)\n",
    "\n",
    "import random\n",
    "def foo(reward: float, lockout: int, t: int, T: int, your_score: float, other_scores: list[float]):\n",
    "    return random.random() > 0.5\n",
    "client.test(foo)"
   ]
  },
  {
   "cell_type": "code",
   "execution_count": null,
   "id": "7084e0ae-4eb7-487e-96d1-b8dfb3d4c5e6",
   "metadata": {},
   "outputs": [],
   "source": [
    "client.test(foo, allow_state=True)"
   ]
  },
  {
   "cell_type": "code",
   "execution_count": null,
   "id": "938596c6-7ada-4f59-b4f1-5739ad88354e",
   "metadata": {},
   "outputs": [],
   "source": [
    "client.submit(foo, allow_state=True)"
   ]
  },
  {
   "cell_type": "code",
   "execution_count": null,
   "id": "9acb9620-77e7-4529-a43d-adcfb5f3ad26",
   "metadata": {},
   "outputs": [],
   "source": [
    "client = Client('Team B', server=server)"
   ]
  },
  {
   "cell_type": "code",
   "execution_count": null,
   "id": "53b9d795-dc82-4d9d-9e50-f296bd6d7cfb",
   "metadata": {},
   "outputs": [],
   "source": [
    "def foo(reward: float, lockout: int, t: int, T: int, your_score: float, other_scores: list[float]):\n",
    "    threshold = -0.1\n",
    "    if lockout <= 0:\n",
    "        threshold = 0\n",
    "    if t >= T:\n",
    "        threshold = 0\n",
    "    return reward > threshold\n",
    "client.test(foo)"
   ]
  },
  {
   "cell_type": "code",
   "execution_count": null,
   "id": "c50154e1-edf7-43ec-839b-320ab6d5d849",
   "metadata": {},
   "outputs": [],
   "source": [
    "client.test(foo, strict=True)"
   ]
  },
  {
   "cell_type": "code",
   "execution_count": null,
   "id": "57a20348-9039-4a73-be9d-5cd9f9bdd774",
   "metadata": {},
   "outputs": [],
   "source": [
    "def foo(reward: float, lockout: int, t: int, T: int, your_score: float, other_scores: list[float]):\n",
    "    threshold = 0.1\n",
    "    if lockout <= 0:\n",
    "        threshold = 0\n",
    "    if t >= T:\n",
    "        threshold = 0\n",
    "    return reward > threshold\n",
    "client.test(foo, strict=True)"
   ]
  },
  {
   "cell_type": "code",
   "execution_count": null,
   "id": "eaa85157-1e09-4f78-99b5-32426f53cf33",
   "metadata": {},
   "outputs": [],
   "source": [
    "client.submit(foo)"
   ]
  },
  {
   "cell_type": "code",
   "execution_count": null,
   "id": "bcf73c94-539a-4751-bfdd-e5ad93baa928",
   "metadata": {},
   "outputs": [],
   "source": [
    "client = Client('Team C', server=server)"
   ]
  },
  {
   "cell_type": "code",
   "execution_count": null,
   "id": "fd18f7fd-2542-48cd-b13b-d5b24f795eb0",
   "metadata": {},
   "outputs": [],
   "source": [
    "client.submit('''\n",
    "import time; \n",
    "def play(*args): time.sleep(0.1); return True\n",
    "''', allow_state=True)"
   ]
  },
  {
   "cell_type": "code",
   "execution_count": null,
   "id": "6ceca4e6-8322-404e-b482-07c70d30615d",
   "metadata": {},
   "outputs": [],
   "source": [
    "client.submit('''def play(*args): return True''', allow_state=True)"
   ]
  },
  {
   "cell_type": "code",
   "execution_count": null,
   "id": "6f8e1d85-0593-4f81-976a-ba6662986800",
   "metadata": {},
   "outputs": [],
   "source": [
    "client = Client('Team D', server=server)"
   ]
  },
  {
   "cell_type": "code",
   "execution_count": null,
   "id": "5bc35cf0-92e0-425f-b93d-b37e9cf73ee9",
   "metadata": {},
   "outputs": [],
   "source": [
    "client.submit(foo)"
   ]
  },
  {
   "cell_type": "code",
   "execution_count": null,
   "id": "2ceb3864-aadc-44dc-b8e4-09ca3dd63463",
   "metadata": {},
   "outputs": [],
   "source": [
    "def foo(reward: float, lockout: int, t: int, T: int, your_score: float, other_scores: list[float]):\n",
    "    threshold = 0.2\n",
    "    if lockout <= 0:\n",
    "        threshold = 0\n",
    "    if t >= T:\n",
    "        threshold = 0\n",
    "    return reward > threshold\n",
    "client.submit(foo)"
   ]
  }
 ],
 "metadata": {
  "kernelspec": {
   "display_name": "Python 3 (ipykernel)",
   "language": "python",
   "name": "python3"
  },
  "language_info": {
   "codemirror_mode": {
    "name": "ipython",
    "version": 3
   },
   "file_extension": ".py",
   "mimetype": "text/x-python",
   "name": "python",
   "nbconvert_exporter": "python",
   "pygments_lexer": "ipython3",
   "version": "3.11.11"
  }
 },
 "nbformat": 4,
 "nbformat_minor": 5
}
