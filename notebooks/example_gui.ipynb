{
 "cells": [
  {
   "cell_type": "code",
   "execution_count": null,
   "id": "af94f0a5-6651-4820-a862-6fef0aaf2be6",
   "metadata": {},
   "outputs": [],
   "source": [
    "pip install gr_tradinggame"
   ]
  },
  {
   "cell_type": "code",
   "execution_count": null,
   "id": "9795f43d-47de-47a6-95c5-c4b0c0e153a5",
   "metadata": {},
   "outputs": [],
   "source": [
    "from gr_tradinggame.coding.gui import CodingGame"
   ]
  },
  {
   "cell_type": "code",
   "execution_count": null,
   "id": "a1deb359-45cd-4917-9488-51423c9f5ae6",
   "metadata": {},
   "outputs": [],
   "source": [
    "game = CodingGame(rounds=2000, cooldown=3, length_in_seconds=10)\n",
    "game.play()"
   ]
  }
 ],
 "metadata": {
  "kernelspec": {
   "display_name": "Python 3 (ipykernel)",
   "language": "python",
   "name": "python3"
  },
  "language_info": {
   "codemirror_mode": {
    "name": "ipython",
    "version": 3
   },
   "file_extension": ".py",
   "mimetype": "text/x-python",
   "name": "python",
   "nbconvert_exporter": "python",
   "pygments_lexer": "ipython3",
   "version": "3.11.11"
  }
 },
 "nbformat": 4,
 "nbformat_minor": 5
}
