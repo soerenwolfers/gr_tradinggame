{
 "cells": [
  {
   "cell_type": "code",
   "execution_count": null,
   "id": "b8279cf7-0056-461d-933d-92c684bc4d48",
   "metadata": {},
   "outputs": [],
   "source": [
    "from gr_tradinggame.coding.gui import CodingGame\n",
    "game = CodingGame(rounds=2000, cooldown=3, length_in_seconds=10)\n",
    "game.play()"
   ]
  }
 ],
 "metadata": {
  "kernelspec": {
   "display_name": "Python 3 (ipykernel)",
   "language": "python",
   "name": "python3"
  },
  "language_info": {
   "codemirror_mode": {
    "name": "ipython",
    "version": 3
   },
   "file_extension": ".py",
   "mimetype": "text/x-python",
   "name": "python",
   "nbconvert_exporter": "python",
   "pygments_lexer": "ipython3",
   "version": "3.11.11"
  }
 },
 "nbformat": 4,
 "nbformat_minor": 5
}
