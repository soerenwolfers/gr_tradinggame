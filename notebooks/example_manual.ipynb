{
 "cells": [
  {
   "cell_type": "code",
   "execution_count": null,
   "id": "ac219020-399f-4744-9c3f-e728a75e167b",
   "metadata": {},
   "outputs": [],
   "source": [
    "pip install gr_tradinggame"
   ]
  },
  {
   "cell_type": "code",
   "execution_count": null,
   "id": "ff8866fe-cdd8-4ab0-9b64-7f874cd9b2b9",
   "metadata": {},
   "outputs": [],
   "source": [
    "from gr_tradinggame.manual import ManualGame"
   ]
  },
  {
   "cell_type": "code",
   "execution_count": null,
   "id": "48345c74-a442-4f56-966c-125162014eae",
   "metadata": {},
   "outputs": [],
   "source": [
    "game = ManualGame(\n",
    "    team_names=[\n",
    "        'Watford',\n",
    "        'Manchester',\n",
    "        'Cambridge',\n",
    "        'Edinburgh'\n",
    "    ],\n",
    "    max_rounds=5,\n",
    "    cooldown=3,\n",
    "    width=1000\n",
    ")\n",
    "game"
   ]
  }
 ],
 "metadata": {
  "kernelspec": {
   "display_name": "Python 3 (ipykernel)",
   "language": "python",
   "name": "python3"
  },
  "language_info": {
   "codemirror_mode": {
    "name": "ipython",
    "version": 3
   },
   "file_extension": ".py",
   "mimetype": "text/x-python",
   "name": "python",
   "nbconvert_exporter": "python",
   "pygments_lexer": "ipython3",
   "version": "3.11.11"
  }
 },
 "nbformat": 4,
 "nbformat_minor": 5
}
