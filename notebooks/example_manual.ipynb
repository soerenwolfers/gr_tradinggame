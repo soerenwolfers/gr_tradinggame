{
 "cells": [
  {
   "cell_type": "code",
   "execution_count": null,
   "id": "c02f635a-cc61-43a8-be3e-93ce6e360242",
   "metadata": {},
   "outputs": [],
   "source": [
    "from gr_tradinggame.manual import ManualGame\n",
    "\n",
    "game = ManualGame(\n",
    "    team_names=[\n",
    "        'Watford',\n",
    "        'Manchester',\n",
    "        'Cambridge',\n",
    "        'Edinburgh'\n",
    "    ],\n",
    "    max_rounds=5,\n",
    "    cooldown=3,\n",
    "    width=1000\n",
    ")\n",
    "game"
   ]
  }
 ],
 "metadata": {
  "kernelspec": {
   "display_name": "Python 3 (ipykernel)",
   "language": "python",
   "name": "python3"
  },
  "language_info": {
   "codemirror_mode": {
    "name": "ipython",
    "version": 3
   },
   "file_extension": ".py",
   "mimetype": "text/x-python",
   "name": "python",
   "nbconvert_exporter": "python",
   "pygments_lexer": "ipython3",
   "version": "3.11.11"
  }
 },
 "nbformat": 4,
 "nbformat_minor": 5
}
