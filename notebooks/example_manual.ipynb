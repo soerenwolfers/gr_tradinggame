{
 "cells": [
  {
   "cell_type": "code",
   "execution_count": null,
   "metadata": {
    "id": "skrbu_-h9bQo"
   },
   "outputs": [],
   "source": [
    "pip install gr_tradinggame"
   ]
  },
  {
   "cell_type": "code",
   "execution_count": null,
   "metadata": {
    "id": "Zwa5a-vG9n5-"
   },
   "outputs": [],
   "source": [
    "from gr_tradinggame.manual import ManualGame"
   ]
  },
  {
   "cell_type": "code",
   "execution_count": null,
   "metadata": {
    "id": "-UP8qG_B9ypB"
   },
   "outputs": [],
   "source": [
    "game = ManualGame(\n",
    "    team_names=[\n",
    "        'Watford',\n",
    "        'Manchester',\n",
    "        'Cambridge',\n",
    "        'Edinburgh'\n",
    "    ],\n",
    ")\n",
    "game"
   ]
  }
 ],
 "metadata": {
  "colab": {
   "provenance": []
  },
  "kernelspec": {
   "display_name": "Python 3 (ipykernel)",
   "language": "python",
   "name": "python3"
  },
  "language_info": {
   "codemirror_mode": {
    "name": "ipython",
    "version": 3
   },
   "file_extension": ".py",
   "mimetype": "text/x-python",
   "name": "python",
   "nbconvert_exporter": "python",
   "pygments_lexer": "ipython3",
   "version": "3.11.11"
  }
 },
 "nbformat": 4,
 "nbformat_minor": 4
}
