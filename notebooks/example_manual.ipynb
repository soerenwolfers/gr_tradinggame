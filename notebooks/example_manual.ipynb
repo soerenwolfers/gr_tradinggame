{
  "nbformat": 4,
  "nbformat_minor": 0,
  "metadata": {
    "colab": {
      "provenance": []
    },
    "kernelspec": {
      "name": "python3",
      "display_name": "Python 3"
    },
    "language_info": {
      "name": "python"
    }
  },
  "cells": [
    {
      "cell_type": "code",
      "execution_count": null,
      "metadata": {
        "id": "skrbu_-h9bQo"
      },
      "outputs": [],
      "source": [
        "pip install gr_tradinggame"
      ]
    },
    {
      "cell_type": "code",
      "source": [
        "from gr_tradinggame.manual import ManualGame"
      ],
      "metadata": {
        "id": "Zwa5a-vG9n5-"
      },
      "execution_count": null,
      "outputs": []
    },
    {
      "cell_type": "code",
      "source": [
        "game = ManualGame(\n",
        "    team_names=[\n",
        "        'Watford',\n",
        "        'Manchester',\n",
        "        'Cambridge',\n",
        "        'Edinburgh'\n",
        "    ],\n",
        "    max_rounds=5,\n",
        "    cooldown=3,\n",
        "    width=1000\n",
        ")\n",
        "game"
      ],
      "metadata": {
        "id": "fZlZxdTT9rEv"
      },
      "execution_count": null,
      "outputs": []
    },
    {
      "cell_type": "code",
      "source": [
        "import numpy\n",
        "rng = numpy.random.default_rng(seed=None)\n",
        "def draw_exponential():\n",
        "\n",
        "    return rng.exponential(10)"
      ],
      "metadata": {
        "id": "1MAOr4gr9te_"
      },
      "execution_count": null,
      "outputs": []
    },
    {
      "cell_type": "code",
      "source": [
        "game = ManualGame(\n",
        "    team_names=[\n",
        "        'Watford',\n",
        "        'Manchester',\n",
        "        'Cambridge',\n",
        "        'Edinburgh'\n",
        "    ],\n",
        "    max_rounds=5,\n",
        "    cooldown=3,\n",
        "    width=1000,\n",
        "    random_draw_function = draw_exponential\n",
        ")\n",
        "game"
      ],
      "metadata": {
        "id": "-UP8qG_B9ypB"
      },
      "execution_count": null,
      "outputs": []
    }
  ]
}
