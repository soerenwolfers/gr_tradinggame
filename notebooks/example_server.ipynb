{
 "cells": [
  {
   "cell_type": "code",
   "execution_count": null,
   "metadata": {
    "id": "_ToN4iVMC-JQ"
   },
   "outputs": [],
   "source": [
    "pip install gr_tradinggame"
   ]
  },
  {
   "cell_type": "code",
   "execution_count": null,
   "metadata": {
    "id": "ojSUEp5MDFRo"
   },
   "outputs": [],
   "source": [
    "from gr_tradinggame.coding.server import GameServer"
   ]
  },
  {
   "cell_type": "code",
   "execution_count": null,
   "metadata": {
    "id": "DkehdYRZDLNm"
   },
   "outputs": [],
   "source": [
    "server = GameServer('2xKdM2iD98QgKJz9Pw8DQh9DalR_4EEYGbDiMWSdQR5os7Qa2')  # see https://dashboard.ngrok.com/get-started/your-authtoken\n",
    "server.run()"
   ]
  },
  {
   "cell_type": "code",
   "execution_count": null,
   "metadata": {
    "id": "yILjOGhHDNgg"
   },
   "outputs": [],
   "source": [
    "from gr_tradinggame.coding.gui import CodingGame"
   ]
  },
  {
   "cell_type": "code",
   "execution_count": null,
   "metadata": {
    "id": "I1OidpcQEGoA"
   },
   "outputs": [],
   "source": [
    "bots = {\n",
    "    'GreedyBot': lambda *args, **kwargs: True,\n",
    "    'SmartBot': lambda reward, lockout, t, T, your_score, *args, **kwargs: reward > (lockout * your_score / t if t > 0 else 0), \n",
    "}"
   ]
  },
  {
   "cell_type": "code",
   "execution_count": null,
   "metadata": {
    "id": "85gdEuBVEGtx"
   },
   "outputs": [],
   "source": [
    "game = CodingGame(additional_functions=bots)\n",
    "game.play()"
   ]
  },
  {
   "cell_type": "code",
   "execution_count": null,
   "metadata": {
    "id": "Q96GRi_GEdt0"
   },
   "outputs": [],
   "source": [
    "game = CodingGame(additional_functions=bots, must_be_only_team=True)\n",
    "game.play()"
   ]
  }
 ],
 "metadata": {
  "colab": {
   "provenance": []
  },
  "kernelspec": {
   "display_name": "Python 3 (ipykernel)",
   "language": "python",
   "name": "python3"
  },
  "language_info": {
   "codemirror_mode": {
    "name": "ipython",
    "version": 3
   },
   "file_extension": ".py",
   "mimetype": "text/x-python",
   "name": "python",
   "nbconvert_exporter": "python",
   "pygments_lexer": "ipython3",
   "version": "3.11.11"
  }
 },
 "nbformat": 4,
 "nbformat_minor": 4
}
