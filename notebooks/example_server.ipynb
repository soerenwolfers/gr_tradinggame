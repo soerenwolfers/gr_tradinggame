{
 "cells": [
  {
   "cell_type": "code",
   "execution_count": null,
   "id": "a8282de8-c3f0-4736-bf51-a56a08b6d523",
   "metadata": {},
   "outputs": [],
   "source": [
    "pip install gr_tradinggame"
   ]
  },
  {
   "cell_type": "code",
   "execution_count": null,
   "id": "10d79b1a-79a5-48f8-a512-6cfc1a6edbef",
   "metadata": {},
   "outputs": [],
   "source": [
    "from gr_tradinggame.coding.server import GameServer"
   ]
  },
  {
   "cell_type": "code",
   "execution_count": null,
   "id": "6b0d2f15-376e-494b-91c6-7e9081293aff",
   "metadata": {},
   "outputs": [],
   "source": [
    "server = GameServer('<MYNGROKTOKEN>')  # see https://dashboard.ngrok.com/get-started/your-authtoken\n",
    "server.run()"
   ]
  },
  {
   "cell_type": "code",
   "execution_count": null,
   "id": "45ec31b4-8f0e-46bc-af9b-a311ec69251c",
   "metadata": {},
   "outputs": [],
   "source": [
    "from gr_tradinggame.coding.gui import CodingGame"
   ]
  },
  {
   "cell_type": "code",
   "execution_count": null,
   "id": "e78d338e-4559-481b-aa09-4fce028ad713",
   "metadata": {},
   "outputs": [],
   "source": [
    "game = CodingGame(rounds=2000, cooldown=3, length_in_seconds=10)\n",
    "game.play()"
   ]
  }
 ],
 "metadata": {
  "kernelspec": {
   "display_name": "Python 3 (ipykernel)",
   "language": "python",
   "name": "python3"
  },
  "language_info": {
   "codemirror_mode": {
    "name": "ipython",
    "version": 3
   },
   "file_extension": ".py",
   "mimetype": "text/x-python",
   "name": "python",
   "nbconvert_exporter": "python",
   "pygments_lexer": "ipython3",
   "version": "3.11.11"
  }
 },
 "nbformat": 4,
 "nbformat_minor": 5
}
