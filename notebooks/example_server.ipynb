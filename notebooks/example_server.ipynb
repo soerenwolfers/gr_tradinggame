{
 "cells": [
  {
   "cell_type": "code",
   "execution_count": null,
   "id": "ed40778c-06ad-45a8-baab-59f35869f046",
   "metadata": {},
   "outputs": [],
   "source": [
    "from gr_tradinggame.coding.server import GameServer\n",
    "\n",
    "server = GameServer('<MYNGROKTOKEN>')  # see https://dashboard.ngrok.com/get-started/your-authtoken\n",
    "server.run()"
   ]
  }
 ],
 "metadata": {
  "kernelspec": {
   "display_name": "Python 3 (ipykernel)",
   "language": "python",
   "name": "python3"
  },
  "language_info": {
   "codemirror_mode": {
    "name": "ipython",
    "version": 3
   },
   "file_extension": ".py",
   "mimetype": "text/x-python",
   "name": "python",
   "nbconvert_exporter": "python",
   "pygments_lexer": "ipython3",
   "version": "3.11.11"
  }
 },
 "nbformat": 4,
 "nbformat_minor": 5
}
