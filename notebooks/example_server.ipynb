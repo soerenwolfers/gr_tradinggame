{
  "nbformat": 4,
  "nbformat_minor": 0,
  "metadata": {
    "colab": {
      "provenance": []
    },
    "kernelspec": {
      "name": "python3",
      "display_name": "Python 3"
    },
    "language_info": {
      "name": "python"
    }
  },
  "cells": [
    {
      "cell_type": "code",
      "execution_count": null,
      "metadata": {
        "id": "_ToN4iVMC-JQ"
      },
      "outputs": [],
      "source": [
        "pip install gr_tradinggame"
      ]
    },
    {
      "cell_type": "code",
      "source": [
        "from gr_tradinggame.coding.server import GameServer"
      ],
      "metadata": {
        "id": "ojSUEp5MDFRo"
      },
      "execution_count": null,
      "outputs": []
    },
    {
      "cell_type": "code",
      "source": [
        "server = GameServer('<MYNGROKTOKEN>')  # see https://dashboard.ngrok.com/get-started/your-authtoken\n",
        "server.run()"
      ],
      "metadata": {
        "id": "DkehdYRZDLNm"
      },
      "execution_count": null,
      "outputs": []
    },
    {
      "cell_type": "code",
      "source": [
        "from gr_tradinggame.coding.gui import CodingGame"
      ],
      "metadata": {
        "id": "yILjOGhHDNgg"
      },
      "execution_count": null,
      "outputs": []
    },
    {
      "cell_type": "code",
      "source": [
        "game = CodingGame(rounds=2000, cooldown=3, length_in_seconds=10)\n",
        "game.play()"
      ],
      "metadata": {
        "id": "YqLH8L6RDTJY"
      },
      "execution_count": null,
      "outputs": []
    },
    {
      "cell_type": "code",
      "source": [
        "def always_true(reward: float, lockout: int, t: int, T: int, your_score: float, other_scores: list[float]):\n",
        "\n",
        "    return True\n",
        "\n",
        "bots ={}\n",
        "bots[\"Greedy_Bot\"] = always_true"
      ],
      "metadata": {
        "id": "I1OidpcQEGoA"
      },
      "execution_count": null,
      "outputs": []
    },
    {
      "cell_type": "code",
      "source": [
        "game = CodingGame(rounds=2000, cooldown=3, length_in_seconds=10,additional_functions=bots)\n",
        "game.play()"
      ],
      "metadata": {
        "id": "85gdEuBVEGtx"
      },
      "execution_count": null,
      "outputs": []
    },
    {
      "cell_type": "code",
      "source": [
        "import numpy\n",
        "rng = numpy.random.default_rng(seed=None)\n",
        "def draw_exponential():\n",
        "\n",
        "    return rng.exponential(10)"
      ],
      "metadata": {
        "id": "eaqZFeWfEQpy"
      },
      "execution_count": null,
      "outputs": []
    },
    {
      "cell_type": "code",
      "source": [
        "game = CodingGame(rounds=2000, cooldown=3, length_in_seconds=10,additional_functions=bots,random_draw_function = draw_exponential)\n",
        "game.play()"
      ],
      "metadata": {
        "id": "R67BPWLhEQuq"
      },
      "execution_count": null,
      "outputs": []
    },
    {
      "cell_type": "code",
      "source": [
        "game = CodingGame(rounds=2000, cooldown=3, length_in_seconds=10,additional_functions=bots,random_draw_function = draw_exponential,must_be_only_team=True)\n",
        "game.play()"
      ],
      "metadata": {
        "id": "Q96GRi_GEdt0"
      },
      "execution_count": null,
      "outputs": []
    },
    {
      "cell_type": "code",
      "source": [],
      "metadata": {
        "id": "FpYgpAozEd6e"
      },
      "execution_count": null,
      "outputs": []
    }
  ]
}